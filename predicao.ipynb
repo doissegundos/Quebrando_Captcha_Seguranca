{
  "nbformat": 4,
  "nbformat_minor": 0,
  "metadata": {
    "colab": {
      "name": "predicao.ipynb",
      "provenance": [],
      "collapsed_sections": [],
      "authorship_tag": "ABX9TyNbwCHhlyDZAB+8XjX6fARP",
      "include_colab_link": true
    },
    "kernelspec": {
      "name": "python3",
      "display_name": "Python 3"
    },
    "accelerator": "GPU"
  },
  "cells": [
    {
      "cell_type": "markdown",
      "metadata": {
        "id": "view-in-github",
        "colab_type": "text"
      },
      "source": [
        "<a href=\"https://colab.research.google.com/github/doissegundos/Quebrando_Captcha_Seguranca/blob/main/predicao.ipynb\" target=\"_parent\"><img src=\"https://colab.research.google.com/assets/colab-badge.svg\" alt=\"Open In Colab\"/></a>"
      ]
    },
    {
      "cell_type": "markdown",
      "metadata": {
        "id": "iU6pbfufRDfC"
      },
      "source": [
        "\r\n",
        "## Este trabalho utiliza o dataset que contém imagens de captchas de segurança com caracteres de letras e numeros.\r\n",
        "Disponivel em: https://www.kaggle.com/fournierp/captcha-version-2-images\r\n",
        "\r\n",
        "Acurácia do modelo: 96.73%\r\n",
        "\r\n",
        "By: Adna"
      ]
    },
    {
      "cell_type": "code",
      "metadata": {
        "id": "-5ojgeUgy00x"
      },
      "source": [
        "import numpy as np\r\n",
        "import os\r\n",
        "import matplotlib.pyplot as plt\r\n",
        "import cv2\r\n",
        "import pandas as pd\r\n",
        "from google.colab.patches import cv2_imshow\r\n",
        "\r\n"
      ],
      "execution_count": 1,
      "outputs": []
    },
    {
      "cell_type": "markdown",
      "metadata": {
        "id": "BjMmPenH2RlW"
      },
      "source": [
        "### Importando as imagens salvas no google drive"
      ]
    },
    {
      "cell_type": "code",
      "metadata": {
        "colab": {
          "base_uri": "https://localhost:8080/"
        },
        "id": "h5QQaBSb1vus",
        "outputId": "d9e9654b-9777-4489-8c4e-494ae3ac892c"
      },
      "source": [
        "#Para acessar as imagens do Drive\r\n",
        "from google.colab import drive\r\n",
        "drive.mount('/content/drive')\r\n",
        "root_path = 'drive/My Drive/dataset_new' \r\n",
        "\r\n",
        "image_dataset_train = np.load(os.path.join(r'drive/My Drive/datasets/captcha', 'datatrain.npy'))\r\n",
        "image_dataset_teste = np.load(os.path.join(r'drive/My Drive/datasets/captcha', 'datatest.npy'))\r\n",
        "image_dataset_valid = np.load(os.path.join(r'drive/My Drive/datasets/captcha', 'datavalid.npy'))\r\n",
        "\r\n",
        "label_images_train = np.load(os.path.join(r'drive/My Drive/datasets/captcha', 'labeltrain.npy'))\r\n",
        "label_images_teste = np.load(os.path.join(r'drive/My Drive/datasets/captcha', 'labeltest.npy'))\r\n",
        "label_images_valid = np.load(os.path.join(r'drive/My Drive/datasets/captcha', 'labelvalid.npy'))"
      ],
      "execution_count": 2,
      "outputs": [
        {
          "output_type": "stream",
          "text": [
            "Mounted at /content/drive\n"
          ],
          "name": "stdout"
        }
      ]
    },
    {
      "cell_type": "markdown",
      "metadata": {
        "id": "FcdmuqiOcMZe"
      },
      "source": [
        "#### Processamento Digital de Imagens"
      ]
    },
    {
      "cell_type": "markdown",
      "metadata": {
        "id": "UDPS2f8NYWKQ"
      },
      "source": [
        "A etapa de processamento digital de imagens(PDI) vai receber uma imagem de um captcha e retornar um vetor onde cada posição contem um digito recortado do captcha. Os dataset utilizado contem 5 digitos por imagem. A imagem vai sofrer trasnformações com erosão, e funções de binarização."
      ]
    },
    {
      "cell_type": "code",
      "metadata": {
        "id": "oKpVEiys28OV"
      },
      "source": [
        "kernel =np.ones((3,2),np.uint8)\r\n",
        "elementoEstruturante\t=\tcv2.getStructuringElement(cv2.MORPH_ELLIPSE,(5,5))\r\n",
        "\r\n",
        "borderType = cv2.BORDER_CONSTANT\r\n",
        "def pad(src): \r\n",
        "  top = int(0.05 * src.shape[0])  # shape[0] = rows\r\n",
        "  bottom = top     \r\n",
        "  left = int(0.15 * src.shape[1])  # shape[1] = cols\r\n",
        "  right = left\r\n",
        "  des=cv2.copyMakeBorder(src, top, bottom, left+1, right, borderType, None,255)\r\n",
        "  return cv2.bitwise_not(des)\r\n",
        "\r\n",
        "def pdi(imagem):\r\n",
        "  #Normaliza a imagem de float32 para uint8\r\n",
        "  image = cv2.normalize(imagem, None, 0, 255, cv2.NORM_MINMAX, cv2.CV_8U)\r\n",
        "\r\n",
        "  #Converte a imagem para a escala de cinza\r\n",
        "  gray = cv2.cvtColor(image, cv2.COLOR_BGR2GRAY)\r\n",
        "\r\n",
        "  #Binaliza a imagem\r\n",
        "  binary = cv2.adaptiveThreshold(gray,255,cv2.ADAPTIVE_THRESH_GAUSSIAN_C, cv2.THRESH_BINARY_INV,75,10)\r\n",
        "\r\n",
        "  #Aplica a operação de erosão sobre as imagens\r\n",
        "  erosion =\tcv2.erode(binary,\tkernel,\titerations\t= 1)\r\n",
        "\r\n",
        "  #Retorna um vetor com as imagens separadas em digitos\r\n",
        "  digito = []\r\n",
        "  for i in range(5):\r\n",
        "      digito.append(pad(erosion[:,(30+23*i):(30+23*(i+1))]))\r\n",
        "  return digito"
      ],
      "execution_count": 8,
      "outputs": []
    },
    {
      "cell_type": "code",
      "metadata": {
        "id": "LW3q9nS0_jX2"
      },
      "source": [
        "#Recebe os digitos recortados e tratados da imagem do captcha\r\n",
        "imagem = np.array(pdi(image_dataset_teste[1]))\r\n",
        "label = []\r\n",
        "label.extend(label_images_teste[1])"
      ],
      "execution_count": 65,
      "outputs": []
    },
    {
      "cell_type": "code",
      "metadata": {
        "colab": {
          "base_uri": "https://localhost:8080/",
          "height": 284
        },
        "id": "rTEjkynIQdJu",
        "outputId": "27ff1e27-9063-4a83-d97b-1780159a4ab3"
      },
      "source": [
        "# Digito segmentado\r\n",
        "plt.imshow(imagem[1], cmap='gray')\r\n",
        "print(label[1])"
      ],
      "execution_count": 66,
      "outputs": [
        {
          "output_type": "stream",
          "text": [
            "y\n"
          ],
          "name": "stdout"
        },
        {
          "output_type": "display_data",
          "data": {
            "image/png": "[encoded data removed]",
            "text/plain": [
              "<Figure size 432x288 with 1 Axes>"
            ]
          },
          "metadata": {
            "tags": [],
            "needs_background": "light"
          }
        }
      ]
    },
    {
      "cell_type": "markdown",
      "metadata": {
        "id": "O1nCH_F5cV7u"
      },
      "source": [
        "#### Categorização"
      ]
    },
    {
      "cell_type": "markdown",
      "metadata": {
        "id": "8BagoEV5YGrz"
      },
      "source": [
        "A etapa de categorização vai tranformar os labels das imagens para o formato onehot."
      ]
    },
    {
      "cell_type": "code",
      "metadata": {
        "id": "rwlYdMBeKFGw"
      },
      "source": [
        "\r\n",
        "#retorna os labels da imagem no formato one hot\r\n",
        "def onehot(label):\r\n",
        "  cat = [\"2\",\"3\",\"4\",\"5\",\"6\",\"7\",\"8\",\"b\",\"c\",\"d\",\"e\",\"f\",\"g\",\"m\",\"n\",\"p\",\"w\",\"x\",\"y\"]\r\n",
        "  label_completo = []\r\n",
        "  for i in range(5):\r\n",
        "    label_cat = [0]*19\r\n",
        "    for j in range(19):\r\n",
        "      if(label[i]!=cat[j]):\r\n",
        "        continue\r\n",
        "      else:\r\n",
        "        label_cat[j] = 1\r\n",
        "        label_completo.append(label_cat)\r\n",
        "        break\r\n",
        "  return label_completo"
      ],
      "execution_count": 95,
      "outputs": []
    },
    {
      "cell_type": "code",
      "metadata": {
        "colab": {
          "base_uri": "https://localhost:8080/"
        },
        "id": "P6-feyvALnIU",
        "outputId": "436c6284-1121-4307-ab40-00c361cc5421"
      },
      "source": [
        "label_categorizado = onehot(label)\r\n",
        "label_categorizado"
      ],
      "execution_count": 94,
      "outputs": [
        {
          "output_type": "execute_result",
          "data": {
            "text/plain": [
              "[[0, 0, 0, 0, 0, 0, 0, 0, 0, 0, 0, 0, 0, 0, 1, 0, 0, 0, 0],\n",
              " [0, 0, 0, 0, 0, 0, 0, 0, 0, 0, 0, 0, 0, 0, 0, 0, 0, 0, 1],\n",
              " [0, 1, 0, 0, 0, 0, 0, 0, 0, 0, 0, 0, 0, 0, 0, 0, 0, 0, 0],\n",
              " [0, 0, 0, 0, 0, 0, 0, 0, 0, 0, 0, 0, 0, 0, 1, 0, 0, 0, 0],\n",
              " [0, 0, 0, 0, 0, 0, 0, 0, 0, 0, 0, 0, 0, 0, 1, 0, 0, 0, 0]]"
            ]
          },
          "metadata": {
            "tags": []
          },
          "execution_count": 94
        }
      ]
    },
    {
      "cell_type": "code",
      "metadata": {
        "id": "Z3BuRVnWZkkC"
      },
      "source": [
        ""
      ],
      "execution_count": null,
      "outputs": []
    },
    {
      "cell_type": "markdown",
      "metadata": {
        "id": "QV5uIG4gcZ0O"
      },
      "source": [
        "#### Predição"
      ]
    },
    {
      "cell_type": "markdown",
      "metadata": {
        "id": "h7cQdDTEZmM2"
      },
      "source": [
        "A etapa de predição vai realizar a predição de quais são os digitos das imagens. Nessa etapa é importado um modelo que já foi treinado anteriormente para realizar a predição."
      ]
    },
    {
      "cell_type": "code",
      "metadata": {
        "id": "-3W6w0uYB76k"
      },
      "source": [
        "from tensorflow.keras.models import Sequential, Model,load_model\r\n",
        "import tensorflow as tf"
      ],
      "execution_count": 104,
      "outputs": []
    },
    {
      "cell_type": "code",
      "metadata": {
        "id": "LzRo8IOcDGzt"
      },
      "source": [
        "modelo = load_model(r'drive/My Drive/datasets/captcha/modelos/CNN1.h5')"
      ],
      "execution_count": 105,
      "outputs": []
    },
    {
      "cell_type": "code",
      "metadata": {
        "id": "tJ6MxuokUi47"
      },
      "source": [
        "def predicao(imagem_completa,imagem_pdi,label):\r\n",
        "  cat = [\"2\",\"3\",\"4\",\"5\",\"6\",\"7\",\"8\",\"b\",\"c\",\"d\",\"e\",\"f\",\"g\",\"m\",\"n\",\"p\",\"w\",\"x\",\"y\"]\r\n",
        "  imagem_pdi = tf.expand_dims(imagem_pdi, axis=-1)\r\n",
        "  mod = modelo.predict(imagem_pdi)\r\n",
        "  label_categorizado = onehot(label)\r\n",
        "  predicao, index = '',''\r\n",
        "  for i in range(5):\r\n",
        "    predict_index = np.argmax(mod[i])\r\n",
        "    true_index = np.argmax(label_categorizado[i])\r\n",
        "\r\n",
        "    #fazendo a predição\r\n",
        "    predicao = predicao + cat[predict_index]\r\n",
        "    index = index + cat[true_index]\r\n",
        "\r\n",
        "  plt.imshow(imagem_completa, cmap='gray')\r\n",
        "  print(\"Predição: \" + predicao)\r\n",
        "  print(\"Label correto: \" + index)\r\n",
        "\r\n"
      ],
      "execution_count": 108,
      "outputs": []
    },
    {
      "cell_type": "code",
      "metadata": {
        "colab": {
          "base_uri": "https://localhost:8080/",
          "height": 169
        },
        "id": "_-OzCC8DaQiL",
        "outputId": "5279b453-70e6-4b60-daa0-1862437aeb10"
      },
      "source": [
        "#Seleciona uma imagem do dataset para realizar o teste. Só pode ser selecionadas imagens do dataset de teste, pois as imagens de treinamento e validação ja foram utilizadas para treinar o modelo\r\n",
        "imagem_completa = image_dataset_teste[5]\r\n",
        "label_completo = label_images_teste[5]\r\n",
        "\r\n",
        "#Recebe os digitos recortados e tratados da imagem do captcha\r\n",
        "imagem_pdi = np.array(pdi(imagem_completa))\r\n",
        "label = []\r\n",
        "label.extend(label_completo)\r\n",
        "#Faz a predição\r\n",
        "predicao(imagem_completa,imagem_pdi,label)"
      ],
      "execution_count": 115,
      "outputs": [
        {
          "output_type": "stream",
          "text": [
            "Predição: gm2c2\n",
            "Label correto: gm2c2\n"
          ],
          "name": "stdout"
        },
        {
          "output_type": "display_data",
          "data": {
            "image/png": "[encoded data removed]",
            "text/plain": [
              "<Figure size 432x288 with 1 Axes>"
            ]
          },
          "metadata": {
            "tags": [],
            "needs_background": "light"
          }
        }
      ]
    },
    {
      "cell_type": "code",
      "metadata": {
        "id": "wau9X6ft-uwr"
      },
      "source": [
        ""
      ],
      "execution_count": null,
      "outputs": []
    }
  ]
}